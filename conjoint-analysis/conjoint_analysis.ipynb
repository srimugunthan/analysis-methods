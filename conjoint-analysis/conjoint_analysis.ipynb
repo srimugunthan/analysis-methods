{
 "cells": [
  {
   "cell_type": "code",
   "execution_count": 2,
   "id": "f89a5280",
   "metadata": {},
   "outputs": [],
   "source": [
    "import numpy as np\n",
    "import pandas as pd"
   ]
  },
  {
   "cell_type": "code",
   "execution_count": 3,
   "id": "b153d7bf",
   "metadata": {},
   "outputs": [
    {
     "data": {
      "text/html": [
       "<div>\n",
       "<style scoped>\n",
       "    .dataframe tbody tr th:only-of-type {\n",
       "        vertical-align: middle;\n",
       "    }\n",
       "\n",
       "    .dataframe tbody tr th {\n",
       "        vertical-align: top;\n",
       "    }\n",
       "\n",
       "    .dataframe thead th {\n",
       "        text-align: right;\n",
       "    }\n",
       "</style>\n",
       "<table border=\"1\" class=\"dataframe\">\n",
       "  <thead>\n",
       "    <tr style=\"text-align: right;\">\n",
       "      <th></th>\n",
       "      <th>Run</th>\n",
       "      <th>Sears</th>\n",
       "      <th>Goodyear</th>\n",
       "      <th>Goodrich</th>\n",
       "      <th>Price50</th>\n",
       "      <th>Price60</th>\n",
       "      <th>Price70</th>\n",
       "      <th>Miles30K</th>\n",
       "      <th>Miles40K</th>\n",
       "      <th>Miles50K</th>\n",
       "      <th>SideBlack</th>\n",
       "      <th>SideWhite</th>\n",
       "      <th>Utility</th>\n",
       "    </tr>\n",
       "  </thead>\n",
       "  <tbody>\n",
       "    <tr>\n",
       "      <th>0</th>\n",
       "      <td>1</td>\n",
       "      <td>1</td>\n",
       "      <td>0</td>\n",
       "      <td>0</td>\n",
       "      <td>1</td>\n",
       "      <td>0</td>\n",
       "      <td>0</td>\n",
       "      <td>1</td>\n",
       "      <td>0</td>\n",
       "      <td>0</td>\n",
       "      <td>0</td>\n",
       "      <td>1</td>\n",
       "      <td>5.2</td>\n",
       "    </tr>\n",
       "    <tr>\n",
       "      <th>1</th>\n",
       "      <td>2</td>\n",
       "      <td>1</td>\n",
       "      <td>0</td>\n",
       "      <td>0</td>\n",
       "      <td>0</td>\n",
       "      <td>1</td>\n",
       "      <td>0</td>\n",
       "      <td>0</td>\n",
       "      <td>1</td>\n",
       "      <td>0</td>\n",
       "      <td>0</td>\n",
       "      <td>1</td>\n",
       "      <td>7.3</td>\n",
       "    </tr>\n",
       "    <tr>\n",
       "      <th>2</th>\n",
       "      <td>3</td>\n",
       "      <td>1</td>\n",
       "      <td>0</td>\n",
       "      <td>0</td>\n",
       "      <td>0</td>\n",
       "      <td>0</td>\n",
       "      <td>1</td>\n",
       "      <td>0</td>\n",
       "      <td>0</td>\n",
       "      <td>1</td>\n",
       "      <td>1</td>\n",
       "      <td>0</td>\n",
       "      <td>5.7</td>\n",
       "    </tr>\n",
       "    <tr>\n",
       "      <th>3</th>\n",
       "      <td>4</td>\n",
       "      <td>0</td>\n",
       "      <td>1</td>\n",
       "      <td>0</td>\n",
       "      <td>0</td>\n",
       "      <td>1</td>\n",
       "      <td>0</td>\n",
       "      <td>1</td>\n",
       "      <td>0</td>\n",
       "      <td>0</td>\n",
       "      <td>1</td>\n",
       "      <td>0</td>\n",
       "      <td>4.8</td>\n",
       "    </tr>\n",
       "    <tr>\n",
       "      <th>4</th>\n",
       "      <td>5</td>\n",
       "      <td>0</td>\n",
       "      <td>1</td>\n",
       "      <td>0</td>\n",
       "      <td>0</td>\n",
       "      <td>0</td>\n",
       "      <td>1</td>\n",
       "      <td>0</td>\n",
       "      <td>1</td>\n",
       "      <td>0</td>\n",
       "      <td>0</td>\n",
       "      <td>1</td>\n",
       "      <td>7.2</td>\n",
       "    </tr>\n",
       "  </tbody>\n",
       "</table>\n",
       "</div>"
      ],
      "text/plain": [
       "   Run  Sears  Goodyear  Goodrich  Price50  Price60  Price70  Miles30K  \\\n",
       "0    1      1         0         0        1        0        0         1   \n",
       "1    2      1         0         0        0        1        0         0   \n",
       "2    3      1         0         0        0        0        1         0   \n",
       "3    4      0         1         0        0        1        0         1   \n",
       "4    5      0         1         0        0        0        1         0   \n",
       "\n",
       "   Miles40K  Miles50K  SideBlack  SideWhite  Utility  \n",
       "0         0         0          0          1      5.2  \n",
       "1         1         0          0          1      7.3  \n",
       "2         0         1          1          0      5.7  \n",
       "3         0         0          1          0      4.8  \n",
       "4         1         0          0          1      7.2  "
      ]
     },
     "execution_count": 3,
     "metadata": {},
     "output_type": "execute_result"
    }
   ],
   "source": [
    "cartyresDf  = pd.read_csv(\"CarTyres_data.csv\")\n",
    "cartyresDf.head()"
   ]
  },
  {
   "cell_type": "code",
   "execution_count": null,
   "id": "3aeeaf45",
   "metadata": {},
   "outputs": [],
   "source": []
  },
  {
   "cell_type": "code",
   "execution_count": 4,
   "id": "db8022d6",
   "metadata": {},
   "outputs": [
    {
     "data": {
      "text/plain": [
       "(18, 13)"
      ]
     },
     "execution_count": 4,
     "metadata": {},
     "output_type": "execute_result"
    }
   ],
   "source": [
    "cartyresDf.shape"
   ]
  },
  {
   "cell_type": "code",
   "execution_count": 5,
   "id": "e54fb215",
   "metadata": {},
   "outputs": [],
   "source": [
    "import statsmodels.api as sm"
   ]
  },
  {
   "cell_type": "code",
   "execution_count": 82,
   "id": "dd345564",
   "metadata": {},
   "outputs": [
    {
     "name": "stderr",
     "output_type": "stream",
     "text": [
      "/Users/srimugunthan/anaconda3/lib/python3.8/site-packages/scipy/stats/stats.py:1541: UserWarning: kurtosistest only valid for n>=20 ... continuing anyway, n=18\n",
      "  warnings.warn(\"kurtosistest only valid for n>=20 ... continuing \"\n"
     ]
    },
    {
     "data": {
      "text/html": [
       "<table class=\"simpletable\">\n",
       "<caption>OLS Regression Results</caption>\n",
       "<tr>\n",
       "  <th>Dep. Variable:</th>         <td>Utility</td>     <th>  R-squared:         </th> <td>   0.971</td>\n",
       "</tr>\n",
       "<tr>\n",
       "  <th>Model:</th>                   <td>OLS</td>       <th>  Adj. R-squared:    </th> <td>   0.950</td>\n",
       "</tr>\n",
       "<tr>\n",
       "  <th>Method:</th>             <td>Least Squares</td>  <th>  F-statistic:       </th> <td>   47.00</td>\n",
       "</tr>\n",
       "<tr>\n",
       "  <th>Date:</th>             <td>Fri, 17 Mar 2023</td> <th>  Prob (F-statistic):</th> <td>7.39e-07</td>\n",
       "</tr>\n",
       "<tr>\n",
       "  <th>Time:</th>                 <td>18:20:40</td>     <th>  Log-Likelihood:    </th> <td> -8.7377</td>\n",
       "</tr>\n",
       "<tr>\n",
       "  <th>No. Observations:</th>      <td>    18</td>      <th>  AIC:               </th> <td>   33.48</td>\n",
       "</tr>\n",
       "<tr>\n",
       "  <th>Df Residuals:</th>          <td>    10</td>      <th>  BIC:               </th> <td>   40.60</td>\n",
       "</tr>\n",
       "<tr>\n",
       "  <th>Df Model:</th>              <td>     7</td>      <th>                     </th>     <td> </td>   \n",
       "</tr>\n",
       "<tr>\n",
       "  <th>Covariance Type:</th>      <td>nonrobust</td>    <th>                     </th>     <td> </td>   \n",
       "</tr>\n",
       "</table>\n",
       "<table class=\"simpletable\">\n",
       "<tr>\n",
       "      <td></td>         <th>coef</th>     <th>std err</th>      <th>t</th>      <th>P>|t|</th>  <th>[0.025</th>    <th>0.975]</th>  \n",
       "</tr>\n",
       "<tr>\n",
       "  <th>const</th>     <td>    2.1783</td> <td>    0.053</td> <td>   41.296</td> <td> 0.000</td> <td>    2.061</td> <td>    2.296</td>\n",
       "</tr>\n",
       "<tr>\n",
       "  <th>Sears</th>     <td>    1.2094</td> <td>    0.177</td> <td>    6.844</td> <td> 0.000</td> <td>    0.816</td> <td>    1.603</td>\n",
       "</tr>\n",
       "<tr>\n",
       "  <th>Goodyear</th>  <td>    2.1261</td> <td>    0.177</td> <td>   12.032</td> <td> 0.000</td> <td>    1.732</td> <td>    2.520</td>\n",
       "</tr>\n",
       "<tr>\n",
       "  <th>Goodrich</th>  <td>   -1.1572</td> <td>    0.177</td> <td>   -6.549</td> <td> 0.000</td> <td>   -1.551</td> <td>   -0.763</td>\n",
       "</tr>\n",
       "<tr>\n",
       "  <th>Price50</th>   <td>    1.3761</td> <td>    0.177</td> <td>    7.787</td> <td> 0.000</td> <td>    0.982</td> <td>    1.770</td>\n",
       "</tr>\n",
       "<tr>\n",
       "  <th>Price60</th>   <td>    1.1428</td> <td>    0.177</td> <td>    6.467</td> <td> 0.000</td> <td>    0.749</td> <td>    1.537</td>\n",
       "</tr>\n",
       "<tr>\n",
       "  <th>Price70</th>   <td>   -0.3406</td> <td>    0.177</td> <td>   -1.927</td> <td> 0.083</td> <td>   -0.734</td> <td>    0.053</td>\n",
       "</tr>\n",
       "<tr>\n",
       "  <th>Miles30K</th>  <td>   -1.3406</td> <td>    0.177</td> <td>   -7.586</td> <td> 0.000</td> <td>   -1.734</td> <td>   -0.947</td>\n",
       "</tr>\n",
       "<tr>\n",
       "  <th>Miles40K</th>  <td>    1.3261</td> <td>    0.177</td> <td>    7.505</td> <td> 0.000</td> <td>    0.932</td> <td>    1.720</td>\n",
       "</tr>\n",
       "<tr>\n",
       "  <th>Miles50K</th>  <td>    2.1928</td> <td>    0.177</td> <td>   12.409</td> <td> 0.000</td> <td>    1.799</td> <td>    2.587</td>\n",
       "</tr>\n",
       "<tr>\n",
       "  <th>SideBlack</th> <td>    0.4767</td> <td>    0.143</td> <td>    3.337</td> <td> 0.008</td> <td>    0.158</td> <td>    0.795</td>\n",
       "</tr>\n",
       "<tr>\n",
       "  <th>SideWhite</th> <td>    1.7017</td> <td>    0.126</td> <td>   13.552</td> <td> 0.000</td> <td>    1.422</td> <td>    1.981</td>\n",
       "</tr>\n",
       "</table>\n",
       "<table class=\"simpletable\">\n",
       "<tr>\n",
       "  <th>Omnibus:</th>       <td> 2.753</td> <th>  Durbin-Watson:     </th> <td>   1.714</td>\n",
       "</tr>\n",
       "<tr>\n",
       "  <th>Prob(Omnibus):</th> <td> 0.253</td> <th>  Jarque-Bera (JB):  </th> <td>   1.287</td>\n",
       "</tr>\n",
       "<tr>\n",
       "  <th>Skew:</th>          <td>-0.632</td> <th>  Prob(JB):          </th> <td>   0.525</td>\n",
       "</tr>\n",
       "<tr>\n",
       "  <th>Kurtosis:</th>      <td> 3.342</td> <th>  Cond. No.          </th> <td>7.56e+16</td>\n",
       "</tr>\n",
       "</table><br/><br/>Notes:<br/>[1] Standard Errors assume that the covariance matrix of the errors is correctly specified.<br/>[2] The smallest eigenvalue is 8.08e-33. This might indicate that there are<br/>strong multicollinearity problems or that the design matrix is singular."
      ],
      "text/plain": [
       "<class 'statsmodels.iolib.summary.Summary'>\n",
       "\"\"\"\n",
       "                            OLS Regression Results                            \n",
       "==============================================================================\n",
       "Dep. Variable:                Utility   R-squared:                       0.971\n",
       "Model:                            OLS   Adj. R-squared:                  0.950\n",
       "Method:                 Least Squares   F-statistic:                     47.00\n",
       "Date:                Fri, 17 Mar 2023   Prob (F-statistic):           7.39e-07\n",
       "Time:                        18:20:40   Log-Likelihood:                -8.7377\n",
       "No. Observations:                  18   AIC:                             33.48\n",
       "Df Residuals:                      10   BIC:                             40.60\n",
       "Df Model:                           7                                         \n",
       "Covariance Type:            nonrobust                                         \n",
       "==============================================================================\n",
       "                 coef    std err          t      P>|t|      [0.025      0.975]\n",
       "------------------------------------------------------------------------------\n",
       "const          2.1783      0.053     41.296      0.000       2.061       2.296\n",
       "Sears          1.2094      0.177      6.844      0.000       0.816       1.603\n",
       "Goodyear       2.1261      0.177     12.032      0.000       1.732       2.520\n",
       "Goodrich      -1.1572      0.177     -6.549      0.000      -1.551      -0.763\n",
       "Price50        1.3761      0.177      7.787      0.000       0.982       1.770\n",
       "Price60        1.1428      0.177      6.467      0.000       0.749       1.537\n",
       "Price70       -0.3406      0.177     -1.927      0.083      -0.734       0.053\n",
       "Miles30K      -1.3406      0.177     -7.586      0.000      -1.734      -0.947\n",
       "Miles40K       1.3261      0.177      7.505      0.000       0.932       1.720\n",
       "Miles50K       2.1928      0.177     12.409      0.000       1.799       2.587\n",
       "SideBlack      0.4767      0.143      3.337      0.008       0.158       0.795\n",
       "SideWhite      1.7017      0.126     13.552      0.000       1.422       1.981\n",
       "==============================================================================\n",
       "Omnibus:                        2.753   Durbin-Watson:                   1.714\n",
       "Prob(Omnibus):                  0.253   Jarque-Bera (JB):                1.287\n",
       "Skew:                          -0.632   Prob(JB):                        0.525\n",
       "Kurtosis:                       3.342   Cond. No.                     7.56e+16\n",
       "==============================================================================\n",
       "\n",
       "Notes:\n",
       "[1] Standard Errors assume that the covariance matrix of the errors is correctly specified.\n",
       "[2] The smallest eigenvalue is 8.08e-33. This might indicate that there are\n",
       "strong multicollinearity problems or that the design matrix is singular.\n",
       "\"\"\""
      ]
     },
     "execution_count": 82,
     "metadata": {},
     "output_type": "execute_result"
    }
   ],
   "source": [
    "X = cartyresDf[[\"Sears\",\n",
    "                     \"Goodyear\",\n",
    "                     \"Goodrich\",\n",
    "                     \"Price50\",\n",
    "                     \"Price60\",\n",
    "                     \"Price70\",\n",
    "                     \"Miles30K\",\n",
    "                     \"Miles40K\",\n",
    "                     \"Miles50K\",\n",
    "                     \"SideBlack\",\n",
    "                     \"SideWhite\"]]\n",
    "X = sm.add_constant(X)\n",
    "Y = cartyresDf.Utility\n",
    "linearRegression = sm.OLS(Y, X).fit()\n",
    "linearRegression.summary()\n"
   ]
  },
  {
   "cell_type": "code",
   "execution_count": 18,
   "id": "ed7d559e",
   "metadata": {},
   "outputs": [],
   "source": [
    "coeff =linearRegression.params.to_dict()\n"
   ]
  },
  {
   "cell_type": "code",
   "execution_count": 23,
   "id": "66d4404a",
   "metadata": {},
   "outputs": [
    {
     "data": {
      "text/plain": [
       "dict_keys(['const', 'Sears', 'Goodyear', 'Goodrich', 'Price50', 'Price60', 'Price70', 'Miles30K', 'Miles40K', 'Miles50K', 'SideBlack', 'SideWhite'])"
      ]
     },
     "execution_count": 23,
     "metadata": {},
     "output_type": "execute_result"
    }
   ],
   "source": [
    "coeff.keys()"
   ]
  },
  {
   "cell_type": "code",
   "execution_count": 12,
   "id": "38279eef",
   "metadata": {},
   "outputs": [
    {
     "data": {
      "text/plain": [
       "<bound method Series.keys of const        2.178333\n",
       "Sears        1.209444\n",
       "Goodyear     2.126111\n",
       "Goodrich    -1.157222\n",
       "Price50      1.376111\n",
       "Price60      1.142778\n",
       "Price70     -0.340556\n",
       "Miles30K    -1.340556\n",
       "Miles40K     1.326111\n",
       "Miles50K     2.192778\n",
       "SideBlack    0.476667\n",
       "SideWhite    1.701667\n",
       "dtype: float64>"
      ]
     },
     "execution_count": 12,
     "metadata": {},
     "output_type": "execute_result"
    }
   ],
   "source": [
    "coeff.keys"
   ]
  },
  {
   "cell_type": "code",
   "execution_count": 14,
   "id": "16a4d6ae",
   "metadata": {},
   "outputs": [],
   "source": [
    "attrarray = {\n",
    "'brand' : ['Sears','Goodyear','Goodrich'],\n",
    "'Price' : ['Price50','Price60','Price70'],\n",
    "'Miles' : ['Miles30K','Miles40K','Miles50K'],\n",
    "'Side' : ['SideBlack','SideWhite']\n",
    "}\n"
   ]
  },
  {
   "cell_type": "code",
   "execution_count": 55,
   "id": "41c86166",
   "metadata": {},
   "outputs": [
    {
     "name": "stdout",
     "output_type": "stream",
     "text": [
      "***** Regression coefficients ********\n",
      "brand\n",
      "Sears 1.21\n",
      "Goodyear 2.13\n",
      "Goodrich -1.16\n",
      "*****\n",
      "Price\n",
      "Price50 1.38\n",
      "Price60 1.14\n",
      "Price70 -0.34\n",
      "*****\n",
      "Miles\n",
      "Miles30K -1.34\n",
      "Miles40K 1.33\n",
      "Miles50K 2.19\n",
      "*****\n",
      "Side\n",
      "SideBlack 0.48\n",
      "SideWhite 1.70\n",
      "*****\n"
     ]
    }
   ],
   "source": [
    "\n",
    "print(\"***** Regression coefficients ********\")\n",
    "for attribute in attrarray.keys():\n",
    "    print(attribute)\n",
    "    temp_list = attrarray[attribute]\n",
    "    for k in temp_list:\n",
    "        print(k,format(coeff[k], '.2f') )\n",
    "    print(\"*****\")"
   ]
  },
  {
   "cell_type": "code",
   "execution_count": 16,
   "id": "608fb6ca",
   "metadata": {},
   "outputs": [
    {
     "data": {
      "text/plain": [
       "['Sears', 'Goodyear', 'Goodrich']"
      ]
     },
     "execution_count": 16,
     "metadata": {},
     "output_type": "execute_result"
    }
   ],
   "source": [
    "temp_list"
   ]
  },
  {
   "cell_type": "code",
   "execution_count": 30,
   "id": "821091e4",
   "metadata": {},
   "outputs": [],
   "source": [
    "rangePerFeature = []\n",
    "for attribute in attrarray.keys():\n",
    "    temp_list = attrarray[attribute]\n",
    "    tempRange = []\n",
    "    for k in temp_list:\n",
    "        if k in coeff.keys():\n",
    "            tempRange.append(coeff[k])\n",
    "    rangePerFeature.append(tempRange)"
   ]
  },
  {
   "cell_type": "code",
   "execution_count": 31,
   "id": "50911395",
   "metadata": {},
   "outputs": [
    {
     "data": {
      "text/plain": [
       "[[1.2094444444444443, 2.1261111111111117, -1.157222222222222],\n",
       " [1.3761111111111088, 1.1427777777777794, -0.3405555555555546],\n",
       " [-1.340555555555556, 1.3261111111111117, 2.192777777777779],\n",
       " [0.4766666666666659, 1.7016666666666678]]"
      ]
     },
     "execution_count": 31,
     "metadata": {},
     "output_type": "execute_result"
    }
   ],
   "source": [
    "rangePerFeature"
   ]
  },
  {
   "cell_type": "code",
   "execution_count": 45,
   "id": "df094e5d",
   "metadata": {},
   "outputs": [
    {
     "name": "stdout",
     "output_type": "stream",
     "text": [
      "importance [3.2833333333333337, 1.7166666666666635, 3.533333333333335, 1.2250000000000019]\n",
      "relative_importance [33.6, 17.599999999999998, 36.199999999999996, 12.6]\n"
     ]
    }
   ],
   "source": [
    "importance = []\n",
    "relative_importance = []\n",
    "for item in rangePerFeature:\n",
    "    importance.append( max(item) - min(item))\n",
    "\n",
    "for item in importance:\n",
    "    relative_importance.append(100* round(item/sum(importance),3))\n",
    "    \n",
    "print(\"importance\",importance)\n",
    "print(\"relative_importance\",relative_importance)"
   ]
  },
  {
   "cell_type": "code",
   "execution_count": 38,
   "id": "56d18b82",
   "metadata": {},
   "outputs": [
    {
     "name": "stdout",
     "output_type": "stream",
     "text": [
      "Relative Importance of Feature:\n",
      " brand: 33.6 % \n",
      "Price: 17.599999999999998 % \n",
      "Miles: 36.199999999999996 % \n",
      "Side: 12.6 %\n",
      "\n",
      "\n",
      "------------------------------------------------------------\n",
      "Importance of Feature:\n",
      " brand: 3.2833333333333337 \n",
      "Price: 1.7166666666666635 \n",
      "Miles: 3.533333333333335 \n",
      "Side: 1.2250000000000019\n"
     ]
    }
   ],
   "source": [
    "print (\"Relative Importance of Feature:\\n brand:\",relative_importance[0], \"%\",\\\n",
    "\"\\nPrice:\", relative_importance[1], \"%\", \"\\nMiles:\", relative_importance[2], \"%\",\\\n",
    "       \"\\nSide:\", relative_importance[3], \"%\\n\\n\")\n",
    "\n",
    "print (\"--\"*30)\n",
    "\n",
    "print (\"Importance of Feature:\\n brand:\",importance[0],\\\n",
    "\"\\nPrice:\", importance[1],  \"\\nMiles:\", importance[2], \\\n",
    "      \"\\nSide:\", importance[3])"
   ]
  },
  {
   "cell_type": "code",
   "execution_count": null,
   "id": "04b75851",
   "metadata": {},
   "outputs": [],
   "source": [
    "\n",
    "partworths = []\n",
    "\n",
    "item_levels = [1,3,5,8]\n",
    "\n",
    "for i in range(1,4):\n",
    "    part_worth_range = linearRegression.params[item_levels[i-1]:item_levels[i]]\n",
    "    print part_worth_range"
   ]
  },
  {
   "cell_type": "code",
   "execution_count": 46,
   "id": "0d306e8f",
   "metadata": {},
   "outputs": [
    {
     "data": {
      "text/plain": [
       "Index(['Sears', 'Goodyear', 'Goodrich', 'Price50', 'Price60', 'Price70',\n",
       "       'Miles30K', 'Miles40K', 'Miles50K', 'SideBlack', 'SideWhite',\n",
       "       'Utility'],\n",
       "      dtype='object')"
      ]
     },
     "execution_count": 46,
     "metadata": {},
     "output_type": "execute_result"
    }
   ],
   "source": [
    "cartyresDf.columns[1:]"
   ]
  },
  {
   "cell_type": "code",
   "execution_count": 49,
   "id": "b70e1fbc",
   "metadata": {},
   "outputs": [
    {
     "data": {
      "text/plain": [
       "Index(['Sears', 'Goodyear', 'Goodrich', 'Price50', 'Price60', 'Price70',\n",
       "       'Miles30K', 'Miles40K', 'Miles50K', 'SideBlack', 'SideWhite'],\n",
       "      dtype='object')"
      ]
     },
     "execution_count": 49,
     "metadata": {},
     "output_type": "execute_result"
    }
   ],
   "source": [
    "cartyresDf.columns[1:12]"
   ]
  },
  {
   "cell_type": "code",
   "execution_count": 50,
   "id": "c30bab05",
   "metadata": {},
   "outputs": [],
   "source": [
    "meanRank = []\n",
    "colnames = cartyresDf.columns[1:12]\n",
    "for i in cartyresDf.columns[1:12]:\n",
    "    newmeanRank = cartyresDf[\"Utility\"].loc[cartyresDf[i] == 1].mean()\n",
    "    meanRank.append(newmeanRank)\n",
    "\n",
    "\n",
    "totalMeanRank = sum(meanRank) / len(meanRank)\n",
    "\n",
    "\n",
    "\n",
    "partWorths = {}\n",
    "for i in range(len(meanRank)):\n",
    "    name =colnames[i]\n",
    "    partWorths[name] = meanRank[i] - totalMeanRank"
   ]
  },
  {
   "cell_type": "code",
   "execution_count": 54,
   "id": "6946176f",
   "metadata": {},
   "outputs": [
    {
     "name": "stdout",
     "output_type": "stream",
     "text": [
      "****** Part worths *******\n",
      "Sears 0.52\n",
      "Goodyear 1.44\n",
      "Goodrich -1.85\n",
      "Price50 0.69\n",
      "Price60 0.45\n",
      "Price70 -1.03\n",
      "Miles30K -2.03\n",
      "Miles40K 0.64\n",
      "Miles50K 1.50\n",
      "SideBlack -0.78\n",
      "SideWhite 0.45\n"
     ]
    }
   ],
   "source": [
    "print(\"****** Part worths *******\")\n",
    "for k in partWorths.keys():\n",
    "    print(k,format(partWorths[k], '.2f') )"
   ]
  },
  {
   "cell_type": "code",
   "execution_count": null,
   "id": "6b2ac18b",
   "metadata": {},
   "outputs": [],
   "source": []
  },
  {
   "cell_type": "code",
   "execution_count": 68,
   "id": "97a2dc47",
   "metadata": {},
   "outputs": [
    {
     "name": "stdout",
     "output_type": "stream",
     "text": [
      "Choosing the optimal Combination brings the user an additional  4.0734848484848465 'units' of utility\n"
     ]
    }
   ],
   "source": [
    "\n",
    "optimalWorth = partWorths[\"Goodyear\"] + partWorths[\"Price50\"] + partWorths[\"Miles50K\"] + partWorths[\"SideWhite\"]\n",
    "\n",
    "print (\"Choosing the optimal Combination brings the user an additional \", optimalWorth, \"'units' of utility\")"
   ]
  },
  {
   "cell_type": "code",
   "execution_count": null,
   "id": "419808fd",
   "metadata": {},
   "outputs": [],
   "source": []
  },
  {
   "cell_type": "code",
   "execution_count": 88,
   "id": "8ae23706",
   "metadata": {},
   "outputs": [],
   "source": [
    "#As array that looks like X\n",
    "#Must include Constant!\n",
    "# X = cartyresDf[[\"Sears\",\n",
    "#                      \"Goodyear\",\n",
    "#                      \"Goodrich\",\n",
    "#                      \"Price50\",\n",
    "#                      \"Price60\",\n",
    "#                      \"Price70\",\n",
    "#                      \"Miles30K\",\n",
    "#                      \"Miles40K\",\n",
    "#                      \"Miles50K\",\n",
    "#                      \"SideBlack\",\n",
    "#                      \"SideWhite\"]]\n",
    "optBundle = [0,0,1,0,1,0,0,0,0,1,0,1]\n",
    "\n"
   ]
  },
  {
   "cell_type": "code",
   "execution_count": 91,
   "id": "6dd1c244",
   "metadata": {},
   "outputs": [
    {
     "name": "stdout",
     "output_type": "stream",
     "text": [
      "The best possible Combination  would have the highest utility: 7.396666666666668\n"
     ]
    }
   ],
   "source": [
    "\n",
    "\n",
    "\n",
    "#print( \"The best possible Combination of Stimuli would have the highest rank:\"\n",
    "print (\"The best possible Combination  would have the highest utility:\",\\\n",
    "linearRegression.predict(optBundle)[0])"
   ]
  },
  {
   "cell_type": "code",
   "execution_count": null,
   "id": "84837b6a",
   "metadata": {},
   "outputs": [],
   "source": []
  }
 ],
 "metadata": {
  "kernelspec": {
   "display_name": "Python 3",
   "language": "python",
   "name": "python3"
  },
  "language_info": {
   "codemirror_mode": {
    "name": "ipython",
    "version": 3
   },
   "file_extension": ".py",
   "mimetype": "text/x-python",
   "name": "python",
   "nbconvert_exporter": "python",
   "pygments_lexer": "ipython3",
   "version": "3.8.8"
  }
 },
 "nbformat": 4,
 "nbformat_minor": 5
}
