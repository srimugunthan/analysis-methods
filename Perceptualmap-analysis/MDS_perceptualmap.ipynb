{
 "cells": [
  {
   "cell_type": "code",
   "execution_count": 1,
   "id": "5bc407e5",
   "metadata": {},
   "outputs": [],
   "source": [
    "import pandas as pd"
   ]
  },
  {
   "cell_type": "code",
   "execution_count": 2,
   "id": "33f5599a",
   "metadata": {},
   "outputs": [
    {
     "data": {
      "text/html": [
       "<div>\n",
       "<style scoped>\n",
       "    .dataframe tbody tr th:only-of-type {\n",
       "        vertical-align: middle;\n",
       "    }\n",
       "\n",
       "    .dataframe tbody tr th {\n",
       "        vertical-align: top;\n",
       "    }\n",
       "\n",
       "    .dataframe thead th {\n",
       "        text-align: right;\n",
       "    }\n",
       "</style>\n",
       "<table border=\"1\" class=\"dataframe\">\n",
       "  <thead>\n",
       "    <tr style=\"text-align: right;\">\n",
       "      <th></th>\n",
       "      <th>var1</th>\n",
       "      <th>var2</th>\n",
       "      <th>var3</th>\n",
       "      <th>var4</th>\n",
       "      <th>var5</th>\n",
       "      <th>var6</th>\n",
       "      <th>var7</th>\n",
       "      <th>var8</th>\n",
       "      <th>var9</th>\n",
       "      <th>var10</th>\n",
       "    </tr>\n",
       "  </thead>\n",
       "  <tbody>\n",
       "    <tr>\n",
       "      <th>0</th>\n",
       "      <td>0.0</td>\n",
       "      <td>NaN</td>\n",
       "      <td>NaN</td>\n",
       "      <td>NaN</td>\n",
       "      <td>NaN</td>\n",
       "      <td>NaN</td>\n",
       "      <td>NaN</td>\n",
       "      <td>NaN</td>\n",
       "      <td>NaN</td>\n",
       "      <td>NaN</td>\n",
       "    </tr>\n",
       "    <tr>\n",
       "      <th>1</th>\n",
       "      <td>6.0</td>\n",
       "      <td>0.0</td>\n",
       "      <td>NaN</td>\n",
       "      <td>NaN</td>\n",
       "      <td>NaN</td>\n",
       "      <td>NaN</td>\n",
       "      <td>NaN</td>\n",
       "      <td>NaN</td>\n",
       "      <td>NaN</td>\n",
       "      <td>NaN</td>\n",
       "    </tr>\n",
       "    <tr>\n",
       "      <th>2</th>\n",
       "      <td>4.0</td>\n",
       "      <td>1.0</td>\n",
       "      <td>0.0</td>\n",
       "      <td>NaN</td>\n",
       "      <td>NaN</td>\n",
       "      <td>NaN</td>\n",
       "      <td>NaN</td>\n",
       "      <td>NaN</td>\n",
       "      <td>NaN</td>\n",
       "      <td>NaN</td>\n",
       "    </tr>\n",
       "    <tr>\n",
       "      <th>3</th>\n",
       "      <td>4.0</td>\n",
       "      <td>4.0</td>\n",
       "      <td>9.0</td>\n",
       "      <td>0.0</td>\n",
       "      <td>NaN</td>\n",
       "      <td>NaN</td>\n",
       "      <td>NaN</td>\n",
       "      <td>NaN</td>\n",
       "      <td>NaN</td>\n",
       "      <td>NaN</td>\n",
       "    </tr>\n",
       "    <tr>\n",
       "      <th>4</th>\n",
       "      <td>4.0</td>\n",
       "      <td>4.0</td>\n",
       "      <td>6.0</td>\n",
       "      <td>2.0</td>\n",
       "      <td>0.0</td>\n",
       "      <td>NaN</td>\n",
       "      <td>NaN</td>\n",
       "      <td>NaN</td>\n",
       "      <td>NaN</td>\n",
       "      <td>NaN</td>\n",
       "    </tr>\n",
       "    <tr>\n",
       "      <th>...</th>\n",
       "      <td>...</td>\n",
       "      <td>...</td>\n",
       "      <td>...</td>\n",
       "      <td>...</td>\n",
       "      <td>...</td>\n",
       "      <td>...</td>\n",
       "      <td>...</td>\n",
       "      <td>...</td>\n",
       "      <td>...</td>\n",
       "      <td>...</td>\n",
       "    </tr>\n",
       "    <tr>\n",
       "      <th>175</th>\n",
       "      <td>4.0</td>\n",
       "      <td>9.0</td>\n",
       "      <td>9.0</td>\n",
       "      <td>2.0</td>\n",
       "      <td>9.0</td>\n",
       "      <td>0.0</td>\n",
       "      <td>NaN</td>\n",
       "      <td>NaN</td>\n",
       "      <td>NaN</td>\n",
       "      <td>NaN</td>\n",
       "    </tr>\n",
       "    <tr>\n",
       "      <th>176</th>\n",
       "      <td>9.0</td>\n",
       "      <td>4.0</td>\n",
       "      <td>4.0</td>\n",
       "      <td>9.0</td>\n",
       "      <td>9.0</td>\n",
       "      <td>2.0</td>\n",
       "      <td>0.0</td>\n",
       "      <td>NaN</td>\n",
       "      <td>NaN</td>\n",
       "      <td>NaN</td>\n",
       "    </tr>\n",
       "    <tr>\n",
       "      <th>177</th>\n",
       "      <td>9.0</td>\n",
       "      <td>9.0</td>\n",
       "      <td>3.0</td>\n",
       "      <td>9.0</td>\n",
       "      <td>9.0</td>\n",
       "      <td>3.0</td>\n",
       "      <td>9.0</td>\n",
       "      <td>0.0</td>\n",
       "      <td>NaN</td>\n",
       "      <td>NaN</td>\n",
       "    </tr>\n",
       "    <tr>\n",
       "      <th>178</th>\n",
       "      <td>9.0</td>\n",
       "      <td>3.0</td>\n",
       "      <td>1.0</td>\n",
       "      <td>9.0</td>\n",
       "      <td>1.0</td>\n",
       "      <td>1.0</td>\n",
       "      <td>8.0</td>\n",
       "      <td>9.0</td>\n",
       "      <td>0.0</td>\n",
       "      <td>NaN</td>\n",
       "    </tr>\n",
       "    <tr>\n",
       "      <th>179</th>\n",
       "      <td>1.0</td>\n",
       "      <td>1.0</td>\n",
       "      <td>9.0</td>\n",
       "      <td>9.0</td>\n",
       "      <td>9.0</td>\n",
       "      <td>4.0</td>\n",
       "      <td>1.0</td>\n",
       "      <td>9.0</td>\n",
       "      <td>9.0</td>\n",
       "      <td>0.0</td>\n",
       "    </tr>\n",
       "  </tbody>\n",
       "</table>\n",
       "<p>180 rows × 10 columns</p>\n",
       "</div>"
      ],
      "text/plain": [
       "     var1  var2  var3  var4  var5  var6  var7  var8  var9  var10\n",
       "0     0.0   NaN   NaN   NaN   NaN   NaN   NaN   NaN   NaN    NaN\n",
       "1     6.0   0.0   NaN   NaN   NaN   NaN   NaN   NaN   NaN    NaN\n",
       "2     4.0   1.0   0.0   NaN   NaN   NaN   NaN   NaN   NaN    NaN\n",
       "3     4.0   4.0   9.0   0.0   NaN   NaN   NaN   NaN   NaN    NaN\n",
       "4     4.0   4.0   6.0   2.0   0.0   NaN   NaN   NaN   NaN    NaN\n",
       "..    ...   ...   ...   ...   ...   ...   ...   ...   ...    ...\n",
       "175   4.0   9.0   9.0   2.0   9.0   0.0   NaN   NaN   NaN    NaN\n",
       "176   9.0   4.0   4.0   9.0   9.0   2.0   0.0   NaN   NaN    NaN\n",
       "177   9.0   9.0   3.0   9.0   9.0   3.0   9.0   0.0   NaN    NaN\n",
       "178   9.0   3.0   1.0   9.0   1.0   1.0   8.0   9.0   0.0    NaN\n",
       "179   1.0   1.0   9.0   9.0   9.0   4.0   1.0   9.0   9.0    0.0\n",
       "\n",
       "[180 rows x 10 columns]"
      ]
     },
     "execution_count": 2,
     "metadata": {},
     "output_type": "execute_result"
    }
   ],
   "source": [
    "df = pd.read_spss(\"./HBAT/HBAT_MDS.sav\")\n",
    "df"
   ]
  },
  {
   "cell_type": "code",
   "execution_count": 3,
   "id": "e36be92a",
   "metadata": {},
   "outputs": [],
   "source": [
    "names = df.columns"
   ]
  },
  {
   "cell_type": "code",
   "execution_count": 4,
   "id": "cd477c2d",
   "metadata": {},
   "outputs": [
    {
     "data": {
      "text/plain": [
       "Index(['var1', 'var2', 'var3', 'var4', 'var5', 'var6', 'var7', 'var8', 'var9',\n",
       "       'var10'],\n",
       "      dtype='object')"
      ]
     },
     "execution_count": 4,
     "metadata": {},
     "output_type": "execute_result"
    }
   ],
   "source": [
    "names"
   ]
  },
  {
   "cell_type": "code",
   "execution_count": 5,
   "id": "8efe1fe6",
   "metadata": {},
   "outputs": [],
   "source": [
    "S = 10\n",
    "N = int(len(df)/S)\n",
    "frames = [ df.iloc[i*S:(i+1)*S].copy() for i in range(N+1) ]"
   ]
  },
  {
   "cell_type": "code",
   "execution_count": 16,
   "id": "9d9ff3ca",
   "metadata": {},
   "outputs": [],
   "source": [
    "import numpy as np\n",
    "cum_arr = frames[0].to_numpy()\n",
    "for i in range(1,N):\n",
    "    arr = frames[i].to_numpy()\n",
    "    cum_arr = np.add(cum_arr,arr)"
   ]
  },
  {
   "cell_type": "code",
   "execution_count": 31,
   "id": "72b4111b",
   "metadata": {},
   "outputs": [
    {
     "name": "stdout",
     "output_type": "stream",
     "text": [
      "[73. 83.  0. nan nan nan nan nan nan nan]\n"
     ]
    }
   ],
   "source": [
    "print(cum_arr[2])"
   ]
  },
  {
   "cell_type": "code",
   "execution_count": 25,
   "id": "9cac8c90",
   "metadata": {},
   "outputs": [],
   "source": [
    "arr = df[:10].to_numpy()"
   ]
  },
  {
   "cell_type": "code",
   "execution_count": 18,
   "id": "ebd87902",
   "metadata": {},
   "outputs": [],
   "source": [
    "X = cum_arr"
   ]
  },
  {
   "cell_type": "code",
   "execution_count": 19,
   "id": "c7dfa90a",
   "metadata": {},
   "outputs": [],
   "source": [
    "from sklearn import manifold"
   ]
  },
  {
   "cell_type": "code",
   "execution_count": 20,
   "id": "2fc05e7d",
   "metadata": {},
   "outputs": [],
   "source": [
    "import numpy as np\n",
    "Xprime = np.nan_to_num(X)"
   ]
  },
  {
   "cell_type": "code",
   "execution_count": 21,
   "id": "6976e9b7",
   "metadata": {},
   "outputs": [],
   "source": [
    "Xprime = np.squeeze(Xprime)\n",
    "Xprime = Xprime + Xprime.T "
   ]
  },
  {
   "cell_type": "code",
   "execution_count": 22,
   "id": "d30a9059",
   "metadata": {},
   "outputs": [
    {
     "data": {
      "text/plain": [
       "array([[  0.,  61.,  73., 138., 134., 107., 135., 138., 136.,  69.],\n",
       "       [ 61.,   0.,  83., 133., 134., 137., 117., 137.,  91.,  55.],\n",
       "       [ 73.,  83.,   0., 118., 106., 141., 108., 113.,  61., 129.],\n",
       "       [138., 133., 118.,   0.,  55., 107., 140., 132., 135., 135.],\n",
       "       [134., 134., 106.,  55.,   0., 137., 141., 133.,  53., 135.],\n",
       "       [107., 137., 141., 107., 137.,   0., 107., 114.,  79., 117.],\n",
       "       [135., 117., 108., 140., 141., 107.,   0., 139., 129.,  55.],\n",
       "       [138., 137., 113., 132., 133., 114., 139.,   0., 134., 136.],\n",
       "       [136.,  91.,  61., 135.,  53.,  79., 129., 134.,   0., 137.],\n",
       "       [ 69.,  55., 129., 135., 135., 117.,  55., 136., 137.,   0.]])"
      ]
     },
     "execution_count": 22,
     "metadata": {},
     "output_type": "execute_result"
    }
   ],
   "source": [
    "Xprime"
   ]
  },
  {
   "cell_type": "code",
   "execution_count": null,
   "id": "80de0db4",
   "metadata": {},
   "outputs": [],
   "source": []
  },
  {
   "cell_type": "code",
   "execution_count": 23,
   "id": "a21a327c",
   "metadata": {},
   "outputs": [],
   "source": [
    "mds = manifold.MDS(2, dissimilarity='precomputed')\n",
    "coords = mds.fit_transform(Xprime)\n",
    "x, y = coords[:, 0], coords[:, 1]"
   ]
  },
  {
   "cell_type": "code",
   "execution_count": 25,
   "id": "141684f0",
   "metadata": {},
   "outputs": [],
   "source": [
    "import matplotlib.pyplot as plt"
   ]
  },
  {
   "cell_type": "code",
   "execution_count": 26,
   "id": "c2d867d3",
   "metadata": {},
   "outputs": [
    {
     "data": {
      "image/png": "[encoded data removed]",
      "text/plain": [
       "<Figure size 432x288 with 1 Axes>"
      ]
     },
     "metadata": {
      "needs_background": "light"
     },
     "output_type": "display_data"
    }
   ],
   "source": [
    "fig, ax = plt.subplots()\n",
    "ax.scatter(x, y)\n",
    "for (varname, _x, _y) in zip(names, x, y):\n",
    "    ax.annotate(varname, (_x, _y))\n",
    "plt.show()"
   ]
  },
  {
   "cell_type": "code",
   "execution_count": null,
   "id": "50f94c88",
   "metadata": {},
   "outputs": [],
   "source": []
  }
 ],
 "metadata": {
  "kernelspec": {
   "display_name": "Python 3",
   "language": "python",
   "name": "python3"
  },
  "language_info": {
   "codemirror_mode": {
    "name": "ipython",
    "version": 3
   },
   "file_extension": ".py",
   "mimetype": "text/x-python",
   "name": "python",
   "nbconvert_exporter": "python",
   "pygments_lexer": "ipython3",
   "version": "3.8.8"
  }
 },
 "nbformat": 4,
 "nbformat_minor": 5
}
